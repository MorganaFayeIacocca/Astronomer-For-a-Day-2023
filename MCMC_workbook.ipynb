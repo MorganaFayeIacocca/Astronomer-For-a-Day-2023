{
 "cells": [
  {
   "cell_type": "markdown",
   "id": "14f962fd-1957-447a-afc9-c7f338e1d7d9",
   "metadata": {},
   "source": [
    "# Markov Chain Monte Carlo"
   ]
  },
  {
   "cell_type": "markdown",
   "id": "2f4fe5a6-a946-46b5-9143-4a288a6f96d4",
   "metadata": {},
   "source": [
    "Let's get our import statements out of the way\n",
    "Numpy will let us pull random numbers and manage our lists more easily\n",
    "matplotlib will be used for plotting our results"
   ]
  },
  {
   "cell_type": "code",
   "execution_count": 1,
   "id": "35132b26-1455-49db-b22c-51e381dcf73b",
   "metadata": {},
   "outputs": [],
   "source": [
    "import numpy as np\n",
    "import matplotlib.pyplot as plt"
   ]
  },
  {
   "cell_type": "markdown",
   "id": "5bec4797-1d1e-46e9-addc-55f7687219de",
   "metadata": {},
   "source": [
    "## Just the Monte Carlo"
   ]
  },
  {
   "attachments": {},
   "cell_type": "markdown",
   "id": "1ce358fe-da65-4b1a-91ef-0c0f38454055",
   "metadata": {},
   "source": [
    "Monte Carlo is a process of **approximating a distribution** by *simulating an event* many times and recording the outcomes.\n",
    "\n",
    "The simplest example would be rolling a d6 over and over again, and recording the result each time. At first, the counts of each number will vary, but as the number of rolls increases, the counts will converge to their theoretical value of $\\frac{1}{6}$\n",
    "\n",
    "Let's use this technique to approximate the value of $\\pi$\n",
    "<div>\n",
    "<img src=\"https://learntofish.files.wordpress.com/2010/10/circle_and_square.png\" width=\"300\"/>\n",
    "</div>\n",
    "\n",
    "Consider the areas of the shapes above.\n",
    "\n",
    "Area of circle = $\\pi r^{2}$\n",
    "\n",
    "Area of square = $(2r)^{2}$\n",
    "\n",
    "### R = $\\frac{\\text{Area of circle}}{\\text{Area of square}} = \\frac{\\pi r^{2}}{4 r^{2}} = \\frac{\\pi}{4}$\n",
    "\n",
    "### $ 4R = \\pi $\n",
    "\n",
    "Now we just need to calculate R.\n",
    "\n",
    "We'll do this by _randomly_ dropping points into the square. If a point is also inside the circle, we'll record it and mark it in a different color.\n",
    "\n",
    "Fill in the gaps in the code below, and then use the subsequent cells to test your code"
   ]
  },
  {
   "cell_type": "code",
   "execution_count": null,
   "id": "6ce58323-a734-4c4d-83aa-fea4020c454a",
   "metadata": {},
   "outputs": [],
   "source": [
    "def approximate_pi(num_sample):\n",
    "    in_square = [[], []]\n",
    "    in_circle = [[], []]\n",
    "    \n",
    "    for i in range(num_sample):\n",
    "        # Generate uniform random values within the bounds of a square centered at the origin and with side length 2\n",
    "        # Use numpy.random.uniform to generate these values \n",
    "        x = np.random.uniform(# YOUR CODE HERE)\n",
    "        y = np.random.uniform(# YOUR CODE HERE)\n",
    "    \n",
    "        in_square[0].append(x)\n",
    "        in_square[1].append(y)\n",
    "\n",
    "        # Check if the point is also inside the circle\n",
    "        if(# YOUR CODE HERE):\n",
    "            in_circle[0].append(x)\n",
    "            in_circle[1].append(y)\n",
    "\n",
    "    # Plot the results\n",
    "    fig = plt.figure(figsize=(8,8))\n",
    "    ax = fig.gca()\n",
    "    circ = plt.Circle((0, 0), 1, color='black', fill=False)\n",
    "    # Draw our circle and square for clarity\n",
    "    ax.add_patch(circ)\n",
    "    square_x = [-1, 1, 1, -1, -1]\n",
    "    square_y = [-1, -1, 1, 1, -1]\n",
    "    plt.plot(square_x, square_y, color = \"black\")\n",
    "    plt.xlim((-1.5,1.5))\n",
    "    plt.ylim((-1.5,1.5))\n",
    "    plt.scatter(in_square[0], in_square[1], color=\"r\", s=5)\n",
    "    plt.scatter(in_circle[0], in_circle[1], color=\"b\", s=5)\n",
    "    plt.show()\n",
    "    # Calculate R and pi\n",
    "    print(\"R = \" + str(len(in_circle[0])/len(in_square[0])))\n",
    "    print(\"pi = \" + str(4*len(in_circle[0])/len(in_square[0])))"
   ]
  },
  {
   "cell_type": "code",
   "execution_count": null,
   "id": "c561e40b-466f-4fa8-92d8-556abef0ac49",
   "metadata": {},
   "outputs": [],
   "source": [
    "approximate_pi(1000)"
   ]
  },
  {
   "cell_type": "code",
   "execution_count": null,
   "id": "b5557743-4fa4-4680-b695-1cc1a021deb3",
   "metadata": {},
   "outputs": [],
   "source": [
    "approximate_pi(10000)"
   ]
  },
  {
   "cell_type": "markdown",
   "id": "87248615-acdc-4030-8dc0-dbb51f03bfaa",
   "metadata": {},
   "source": [
    "## Just the Markov Chain"
   ]
  },
  {
   "attachments": {},
   "cell_type": "markdown",
   "id": "74962b78-1e83-4610-bd7d-043535df18e8",
   "metadata": {},
   "source": [
    "A Markov chain is a mathematical structure that defines state transitions in a stochastic (probabilistic) way.\n",
    "\n",
    "If you're familiar with Finite State Machines or Turing Machines, this is similar to those.\n",
    "But Markov Chains have a key difference in that they do not have inputs. State transitions are purely stochastic.\n",
    "\n",
    "Like some FSMs, however, Markov Chains are *memoryless*.\n",
    "The next state is dependent ONLY on the current state\n",
    "\n",
    "Let's work through an example using the weather:\n",
    "\n",
    "<div>\n",
    "<img src=\"https://deparkes.co.uk/wp-content/uploads/2020/08/GraphView.png\" width=\"500\"/>\n",
    "</div>\n",
    "\n",
    "This is a gross oversimplification of how the weather works, because weather patterns are not memoryless, and there are far more options than these three states.\n",
    "\n",
    "BUT. It will work for us!\n",
    "\n",
    "Here, we will use the following values to represent each of our states\n",
    "\n",
    "| State  | Weather  |\n",
    "|---|---|\n",
    "| 1 | Sunny |\n",
    "| 2 | Cloudy  |\n",
    "| 3 | Rainy  |\n",
    "\n",
    "The graph above tells us that, if today is sunny, there is a 70% chance that tomorrow will also be sunny, a 10% chance tomorrow will be cloudy, and a 20% chance tomorrow will be rainy.\n",
    "\n",
    "If today is cloudy, there is a 30% chance tomorrow will also be cloudy, a 50% chance tomorrow will be rainy, and a 20% chance tomorrow will be sunny.\n",
    "\n",
    "If today is rainy, there is a 60% chance tomorrow will also be rainy, a 10% chance tomorrow will be sunny, and a 30% chance tomorrow will be cloudy.\n",
    "\n",
    "We will represent our Markov chain as an array (a list in python), as follows:\n",
    "\n",
    "| Day  | Day 1  | Day 2  | ...  | Day N  |\n",
    "|---|---|---|---|---|\n",
    "|State| 1 | 3 |...|2|\n",
    "\n",
    "We'll start by creating an empty list, then picking the state for the first day.\n",
    "\n",
    "For each day after that, we'll generate a random number, and then use the probabilities listed above to decide what the next day's weather (state) will be.\n",
    "\n",
    "Fill in the following code to achieve this:"
   ]
  },
  {
   "cell_type": "code",
   "execution_count": null,
   "id": "d88315f0-3b39-4686-af25-1565e3405677",
   "metadata": {},
   "outputs": [],
   "source": [
    "def approximate_weather_distribution(num_steps):\n",
    "    # Create our empty list of a given number of steps (days)\n",
    "    weather_chain = np.zeros(num_steps)\n",
    "\n",
    "    # Set the state of the first day; Integer value for the state\n",
    "    weather_chain[0] = # -- YOUR CODE HERE --\n",
    "    \n",
    "    for i in range(len(weather_chain)-1):\n",
    "        # Check if today is sunny\n",
    "        if(weather_chain[i] == 1):\n",
    "            random_value = np.random.uniform(0,10)\n",
    "            # Check if we transition to state 2 (cloudy)\n",
    "            if(# -- YOUR CODE HERE --):\n",
    "                weather_chain[i+1] = 2\n",
    "            # Check if we transition to state 3 (rainy)\n",
    "            elif(# -- YOUR CODE HERE --):\n",
    "                weather_chain[i+1] = 3\n",
    "            else:\n",
    "                weather_chain[i+1] = 1\n",
    "        # Check if today is cloudy\n",
    "        elif(weather_chain[i] == 2):\n",
    "\n",
    "            # -- YOUR CODE HERE --\n",
    "\n",
    "        # Check if today is rainy\n",
    "        elif(weather_chain[i] == 3):\n",
    "\n",
    "            # -- YOUR CODE HERE --\n",
    "\n",
    "    # Plot our steps\n",
    "    plt.figure(figsize=(4,4))\n",
    "    plt.plot(weather_chain)\n",
    "    plt.show()\n",
    "    # Plot our Distribution\n",
    "    plt.figure(figsize=(4,4))\n",
    "    plt.hist(weather_chain)\n",
    "    plt.show()\n",
    "    # Print our results for the distribution\n",
    "    num_sunny = len(weather_chain[np.where(weather_chain == 1)])\n",
    "    num_cloudy = len(weather_chain[np.where(weather_chain == 2)])\n",
    "    num_rainy = len(weather_chain[np.where(weather_chain == 3)])\n",
    "    print(\"Sunny: \" + str(num_sunny/len(weather_chain)))\n",
    "    print(\"Cloudy: \" + str(num_cloudy/len(weather_chain)))\n",
    "    print(\"Rainy: \" + str(num_rainy/len(weather_chain)))"
   ]
  },
  {
   "cell_type": "code",
   "execution_count": null,
   "id": "1a404f90-0175-4db6-91ce-7dc742e5f938",
   "metadata": {},
   "outputs": [],
   "source": [
    "approximate_weather_distribution(1000)"
   ]
  },
  {
   "cell_type": "code",
   "execution_count": null,
   "id": "d66c58c3-7e91-4537-9b43-d5f3a553db2b",
   "metadata": {},
   "outputs": [],
   "source": [
    "approximate_weather_distribution(100000)"
   ]
  },
  {
   "cell_type": "markdown",
   "id": "00dc1efc-c8cd-4491-b971-d3e2139f0a7a",
   "metadata": {},
   "source": [
    "## Markov Chain Monte Carlo "
   ]
  },
  {
   "cell_type": "markdown",
   "id": "a7845e26-55e5-4c79-81c9-110877977ba5",
   "metadata": {},
   "source": [
    "Markov Chain Monte Carlo combines the above techniques to sample from an unknown probability distribution.\n",
    "\n",
    "As above, the more chains we have (number of monte carlo events) and the longer the chains are (more steps in each chain) the better our approximation is!\n",
    "\n",
    "Markov Chain Monte Carlo (MCMC) is rooted in Baye's Theorem\n",
    "<div>\n",
    "<img src=\"https://miro.medium.com/v2/resize:fit:1400/0*x96Ttm0fzmY6eQxH.jpg\" width=\"500\"/>\n",
    "</div>\n",
    "\n",
    "We won't spend much time on Bayes theorem today, but if you're interested in discrete math and probability, or you think you might want to get into machine learning and artificial intelligence, Bayesian statistics will prove super useful to you!\n",
    "\n",
    "P(B) above is also sometimes called the evidence, and for our purposes, we will normalize it to 1 (which is a fancy way of saying, it's a scaling constant so we'll ignore it for now)\n",
    "\n",
    "Today, we're going to consider a relevant example of approximating the hubble constant and a scaling relationship with redshift (~ distance)\n",
    "\n",
    "I've already prepared the data for you to load. It's in a 4 column CSV that takes the form of\n",
    "\n",
    "| z  | z_error  | H0  | H0_error  | \n",
    "|---|---|---|---|\n",
    "| |  |  ||\n",
    "| |  |  ||\n",
    "| |  |  ||\n",
    "\n"
   ]
  },
  {
   "cell_type": "markdown",
   "id": "b5360eea-d31b-414a-bd31-8732aab4115a",
   "metadata": {},
   "source": [
    "#### Step 1. Load Our Data\n",
    "\n",
    "I've provide this for you below. The table can be found in the same github repo that this ipynotebook came from"
   ]
  },
  {
   "cell_type": "code",
   "execution_count": 41,
   "id": "a95dfc0c-ff71-4b2c-a21a-463fb987d208",
   "metadata": {},
   "outputs": [
    {
     "name": "stdout",
     "output_type": "stream",
     "text": [
      "[[1.2200000e-03 8.4000000e-04 7.3612823e+01 4.9067000e-01]\n",
      " [1.2200000e-03 8.4000000e-04 7.3400167e+01 7.8457400e-01]\n",
      " [2.5600000e-03 8.4000000e-04 7.3597874e+01 2.7680800e-01]\n",
      " ...\n",
      " [1.8011900e+00 2.0140000e-02 7.4024664e+01 1.0525100e-01]\n",
      " [1.9116500e+00 2.6300000e-03 7.3123995e+01 1.0517300e-01]\n",
      " [2.2613700e+00 2.0180000e-02 7.2739270e+01 1.0535800e-01]]\n"
     ]
    }
   ],
   "source": [
    "SNe = np.loadtxt(\"SNe_table.csv\", delimiter=\",\")\n",
    "print(SNe)"
   ]
  },
  {
   "cell_type": "markdown",
   "id": "951c9149-24dd-4ea3-9b8c-06bc940a94c0",
   "metadata": {},
   "source": [
    "Looks good!\n",
    "\n",
    "BUT. We probably want to be able to iterate over each column, so let's transpose our data:"
   ]
  },
  {
   "cell_type": "code",
   "execution_count": 43,
   "id": "2d3a3797-6c91-4be8-a217-e4168c79fcd0",
   "metadata": {},
   "outputs": [
    {
     "name": "stdout",
     "output_type": "stream",
     "text": [
      "[[1.2200000e-03 1.2200000e-03 2.5600000e-03 ... 1.8011900e+00\n",
      "  1.9116500e+00 2.2613700e+00]\n",
      " [8.4000000e-04 8.4000000e-04 8.4000000e-04 ... 2.0140000e-02\n",
      "  2.6300000e-03 2.0180000e-02]\n",
      " [7.3612823e+01 7.3400167e+01 7.3597874e+01 ... 7.4024664e+01\n",
      "  7.3123995e+01 7.2739270e+01]\n",
      " [4.9067000e-01 7.8457400e-01 2.7680800e-01 ... 1.0525100e-01\n",
      "  1.0517300e-01 1.0535800e-01]]\n"
     ]
    }
   ],
   "source": [
    "SNe_data = SNe.transpose()\n",
    "print(SNe_data)"
   ]
  },
  {
   "cell_type": "markdown",
   "id": "5e602c54-7010-4083-ad01-4d40efa438b4",
   "metadata": {},
   "source": [
    "This gives us our original 4 columns as 4 rows.\n",
    "\n",
    "Row 1 - redshift, Z\n",
    "\n",
    "Row 2 - redshift error, Z_err\n",
    "\n",
    "Row 3 - Hubble Value, H0\n",
    "\n",
    "Row 4 - Hubble Value error, H0_err"
   ]
  },
  {
   "cell_type": "code",
   "execution_count": 74,
   "id": "c8fe51f7-2234-43ea-b572-0b5233dd8f05",
   "metadata": {},
   "outputs": [],
   "source": [
    "my_z = SNe_data[0]\n",
    "my_z_err = SNe_data[1]\n",
    "my_H0 = SNe_data[2]\n",
    "my_H0_err = SNe_data[3]"
   ]
  },
  {
   "cell_type": "markdown",
   "id": "3d055b28-370f-4736-b807-dd6eea054833",
   "metadata": {},
   "source": [
    "#### Step 2 - Define Our Model\n",
    "\n",
    "For our purposes, we're going to simplify our model to take only 2 parameters:\n",
    "\n",
    "### $\\widetilde{H_{0}}$\n",
    "### $\\alpha$\n",
    "\n",
    "and our model will take the form:\n",
    "\n",
    "### $ H_{0}(z) = \\frac{\\widetilde{H_{0}}}{(1+z)^{\\alpha}}$\n",
    "\n",
    "We need a function that will evaluate $ H_{0}(z) $ at a given $\\widetilde{H_{0}}$, $\\alpha$, and $z$.\n",
    "\n",
    "Please define it below:"
   ]
  },
  {
   "cell_type": "code",
   "execution_count": 49,
   "id": "10bd3f7c-9581-472b-a96b-02491ebd4f28",
   "metadata": {},
   "outputs": [],
   "source": [
    "def eval_model(H_0_squiggle, alpha, z):\n",
    "    # return H0(z) as defined above\n",
    "    return # -- YOUR CODE HERE --"
   ]
  },
  {
   "cell_type": "markdown",
   "id": "e0a14101-22f1-4129-bf8c-518fe08d45de",
   "metadata": {},
   "source": [
    "#### Step 3 - Define Our Prior\n",
    "\n",
    "Priors are sort of like an assumption or a limit. They're something that we think we know but haven't necessarily evaluated analytically.\n",
    "\n",
    "There are many priors that are commonly used in statistics, but we will leave them alone for now.\n",
    "\n",
    "Below, we will define our prior as a set of boundaries.\n",
    "\n",
    "Specifically, we will set lower and upper limits on $\\widetilde{H_{0}}$ and $ \\alpha$\n",
    "\n",
    "You've learned in reading and lecture some values for $ H_{0} $, so let's restrict $\\widetilde{H_{0}}$ to values somewhat close to those\n",
    "\n",
    "Let's also restrict $ \\alpha$ to be a *positive* value. If you'd like, you can add an upper bound as well"
   ]
  },
  {
   "cell_type": "code",
   "execution_count": 136,
   "id": "b2da84ec-2f3f-4cf3-9596-64a59a458e36",
   "metadata": {},
   "outputs": [],
   "source": [
    "def in_prior(H_0_squiggle, alpha):\n",
    "    # Set bounds for our parameters\n",
    "    if ((H_0_squiggle > \"YOUR VALUE HERE\") and (H_0_squiggle < \"YOUR VALUE HERE\") and (alpha >= \"YOUR VALUE HERE\") and (alpha < \"YOUR VALUE HERE\")):\n",
    "        return True\n",
    "    else:\n",
    "        return False"
   ]
  },
  {
   "cell_type": "markdown",
   "id": "752475e7-7cf7-471c-bb67-ad682c223a88",
   "metadata": {},
   "source": [
    "#### Step 4 - Define Our \"Likelihood\" (actually least-squares)\n",
    "\n",
    "A likelihood is a measure of how likely we see our data, assuming our model is correct.\n",
    "\n",
    "For simplicity and familiarity, we're going to implement a $\\chi^{2}$ least square test instead.\n",
    "\n",
    "This least squarest test technically works in reverse of likelihood. The higher the value of the squares, the less likely our data is.\n",
    "\n",
    "So where we would normally try to maximize likelihood, we're going to try to minimize least squares.\n",
    "\n",
    "We'll define\n",
    "\n",
    "### Least Squares = $ \\sum{(\\frac{y_{model} - y_{data}}{y_{error}})^{2}} $\n",
    "\n",
    "Which will give more weight to our data points with smaller error\n",
    "\n",
    "Please implement the least squares formula below:"
   ]
  },
  {
   "cell_type": "code",
   "execution_count": 107,
   "id": "834feae8-d0a2-49e5-a11e-7dd5d3343bd9",
   "metadata": {},
   "outputs": [],
   "source": [
    "def get_least_squares(H_0_squiggle, alpha, z, H, H_err):\n",
    "    least_squares = 0\n",
    "    for i in range(len(z)):\n",
    "        least_squares += # -- YOUR CODE HERE --\n",
    "\n",
    "    return least_squares"
   ]
  },
  {
   "cell_type": "markdown",
   "id": "4873b7de-bf92-4534-b8ab-3eb5eb9c60c2",
   "metadata": {},
   "source": [
    "#### Step 5 - Define Our Next Step\n",
    "\n",
    "Like with the weather example above, we need to define a process of getting our next step in our Markov chain\n",
    "\n",
    "Here, our steps are not discrete.\n",
    "\n",
    "We're going to start from our current location and take a step in any direction in parameter space (we're going to change $\\widetilde{H_{0}}$ and $ \\alpha$ by small amounts)\n",
    "\n",
    "An easy way to do this is to take a random number from a normal or *gaussian* distribution, centered at our current point.\n",
    "\n",
    "We'll then check if our next point is valid according to our priors. If it's not valid, we'll generate a new one until we get one that is valid.\n",
    "\n",
    "Once we have a valid step, we'll return our new $\\widetilde{H_{0}}$ and $ \\alpha$\n",
    "\n",
    "I've provided the random step for you below:"
   ]
  },
  {
   "cell_type": "code",
   "execution_count": 134,
   "id": "9729179f-42ce-485d-a20f-f0917e5119fc",
   "metadata": {},
   "outputs": [],
   "source": [
    "def get_next_step(H_0_squiggle, alpha):\n",
    "    new_H_0_squiggle = np.random.normal(H_0_squiggle, .5)\n",
    "    new_alpha = np.random.normal(alpha, .01)\n",
    "    while(not in_prior(new_H_0_squiggle, new_alpha)):\n",
    "        new_H_0_squiggle = np.random.normal(H_0_squiggle, .1)\n",
    "        new_alpha = np.random.normal(alpha, .01)\n",
    "    return new_H_0_squiggle, new_alpha"
   ]
  },
  {
   "cell_type": "markdown",
   "id": "fcc7db4c-dd7c-4686-9cff-4d6f3280f3c6",
   "metadata": {},
   "source": [
    "#### Step 6 - Place our \"Walkers\"\n",
    "\n",
    "Much like how we set the state of the first day of weather, we need to define an array for our walkers and then set our initial values.\n",
    "\n",
    "We'll keep our walkers in a table. The row will be each markov chain, and each row will be a different walker\n",
    "\n",
    "|   | Step 0  | Step 1  | Step 2  | ...  |Step N  |\n",
    "|---|---|---|---|---|---|\n",
    "|Walker 1|  |  ||\n",
    "|Walker 2|  |  ||\n",
    "|Walker ...|  |  ||\n",
    "|Walker n|  |  ||\n",
    "\n",
    "We'll keep a separate table for each of $\\widetilde{H_{0}}$ and $ \\alpha$, but remember that the same row in each of the tables represents the same chain (each state is comprised by BOTH $\\widetilde{H_{0}}$ and $ \\alpha$)\n",
    "\n",
    "You can set your initial values however you choose. You can place them with a uniform random number, a normal random number, or you can place them manually\n",
    "\n",
    "Implement your initialization below:"
   ]
  },
  {
   "cell_type": "code",
   "execution_count": null,
   "id": "4067e678-9914-4c98-a992-1d22e8c04281",
   "metadata": {},
   "outputs": [],
   "source": [
    "def initialize_walkers(num_walkers, num_steps):\n",
    "    # Create our walker tables\n",
    "    H0squiggle_walk_states = np.zeros((num_walkers, num_steps))\n",
    "    alpha_walk_states = np.zeros((num_walkers, num_steps))\n",
    "\n",
    "    # Give our walkers initial states\n",
    "    for i in range(num_walkers):\n",
    "        H0squiggle_walk_states[i, 0] = # -- YOUR CODE HERE --\n",
    "        alpha_walk_states[i, 0] = # -- YOUR CODE HERE --\n",
    "\n",
    "    return H0squiggle_walk_states, alpha_walk_states\n"
   ]
  },
  {
   "cell_type": "markdown",
   "id": "cb67236b-453d-44fe-a695-140308e28f6e",
   "metadata": {},
   "source": [
    "#### Step 7 - Put it all together\n",
    "\n",
    "This is the main algorithm for MCMC\n",
    "\n",
    "We'll start by picking a number of walkers (chains), and how many steps to take (how long the chains are)\n",
    "\n",
    "Then, we'll initialize our walkers as you defined above.\n",
    "\n",
    "Then, we'll step through our monte carlo simulation. At each step, we'll take each state that a walker is in, and calculate its least squares.\n",
    "\n",
    "Then, we'll generate a new step, and calculate its least squares as well.\n",
    "\n",
    "If our new state is a better model (has lower least squares) than our current state, we'll move there.\n",
    "\n",
    "If our new state is NOT a better model, we'll only move there with some probability. \n",
    "\n",
    "You can define this probability however you like. You can use a fixed value (50/50, 60/40, etc.) or you can scale the probability with how much worse the new model is than the current model (the worse it is, the less likely you are to move there)"
   ]
  },
  {
   "cell_type": "code",
   "execution_count": 140,
   "id": "5bd1766e-1540-4dee-94ba-d1489925a74e",
   "metadata": {},
   "outputs": [],
   "source": [
    "# You can change these as you see fit\n",
    "num_walkers = 3\n",
    "num_steps = 10000\n",
    "\n",
    "# Initialize our walkers\n",
    "my_H0_walkers, my_alpha_walkers = initialize_walkers(num_walkers, num_steps)\n",
    "\n",
    "# Go through each step\n",
    "for i in range(num_steps-1):\n",
    "    # Repeat for each of our walkers\n",
    "    for j in range(num_walkers):\n",
    "        # Get our current values\n",
    "        current_H0squiggle = my_H0_walkers[j][i]\n",
    "        current_alpha = my_alpha_walkers[j][i]\n",
    "        current_least_squares = get_least_squares(current_H0squiggle, current_alpha, my_z, my_H0, my_H0_err)\n",
    "\n",
    "        # Get our next values\n",
    "        next_H0squiggle, next_alpha = get_next_step(current_H0squiggle, current_alpha)\n",
    "        next_least_squares = get_least_squares(next_H0squiggle, next_alpha, my_z, my_H0, my_H0_err)\n",
    "\n",
    "        # Decide whether to accept or reject our next step\n",
    "\n",
    "        # -- YOUR CODE HERE --\n",
    "\n",
    "        if \" Accept condition \":\n",
    "            my_H0_walkers[j][i+1] = next_H0squiggle\n",
    "            my_alpha_walkers[j][i+1] = next_alpha\n",
    "        else: # Reject new step, stay where we are\n",
    "            my_H0_walkers[j][i+1] = current_H0squiggle\n",
    "            my_alpha_walkers[j][i+1] = current_alpha"
   ]
  },
  {
   "cell_type": "markdown",
   "id": "01937c06-4c4f-4739-9e61-628d8ef2f171",
   "metadata": {},
   "source": [
    "### Step 8. Evaluate\n",
    "\n",
    "We'll plot our results and print our posterior distribution.\n",
    "\n",
    "Note that I cut the first 200 steps of our walks.\n",
    "\n",
    "This is called *Burn in*\n",
    "\n",
    "The burn in phase lets us ignore any effects of how we selected our starting positions and our prior. You can change this value if you'd like."
   ]
  },
  {
   "cell_type": "code",
   "execution_count": null,
   "id": "acf2ead4-fe00-4c89-b4c0-96b1882e0559",
   "metadata": {},
   "outputs": [],
   "source": [
    "# Plot our walkers and their steps\n",
    "fig = plt.figure(figsize=(8,6))\n",
    "plt.plot(my_H0_walkers.transpose()[200:,:])\n",
    "plt.ylabel(\"$ \\\\tilde{H_{0}} $\")\n",
    "plt.show()\n",
    "fig = plt.figure(figsize=(8,6))\n",
    "plt.plot(my_alpha_walkers.transpose()[200:,:])\n",
    "plt.ylabel(\"$ \\\\alpha $\")\n",
    "plt.show()\n",
    "\n",
    "\n",
    "# Print statistics\n",
    "print(\"Mean H0 : \" + str(np.mean(my_H0_walkers.transpose()[200:,:])))\n",
    "print(\"std. dev H0: \" + str(np.std(my_H0_walkers.transpose()[200:,:])))\n",
    "\n",
    "print(\"Mean alpha : \" + str(np.mean(my_alpha_walkers.transpose()[200:,:])))\n",
    "print(\"std. dev alpha: \" + str(np.std(my_alpha_walkers.transpose()[200:,:])))"
   ]
  },
  {
   "cell_type": "markdown",
   "id": "dc86a730-5a5a-4d7c-8124-07428020dbab",
   "metadata": {},
   "source": [
    "## Improvements\n",
    "\n",
    "Looking at the graphs you just made and the standard deviation on your walkers, does it seem like your walkers converged to the same value?\n",
    "\n",
    "If yes, congrats!\n",
    "\n",
    "If not, what do you think your MCMC didn't converge? Please type your answer in the box below and then wait for everyone to discuss"
   ]
  },
  {
   "cell_type": "markdown",
   "id": "53a76959-a9e1-4818-b5ad-a20a92b9ffb3",
   "metadata": {},
   "source": [
    "Answer:\n",
    "    "
   ]
  },
  {
   "cell_type": "markdown",
   "id": "526707b2-1cd0-4f32-8c6b-475011533565",
   "metadata": {},
   "source": [
    "## Improvements - Linear Algebra\n",
    "\n",
    "Let's re-examine our weather example:\n",
    "\n",
    "<div>\n",
    "<img src=\"https://deparkes.co.uk/wp-content/uploads/2020/08/GraphView.png\" width=\"500\"/>\n",
    "</div>\n",
    "\n",
    "How about, instead of using a bunch of if statements and a random number generator, we instead used a transition matrix:\n",
    "\n",
    "|   | Sunny  | Cloudy  | Rainy  |\n",
    "|---|---|---|---|\n",
    "|Sunny| .7 | .1 | .2 |\n",
    "|Cloudy| .2 | .3 | .5|\n",
    "|Rainy | .1 | .3 |.6|\n",
    "\n",
    "or \n",
    "\n",
    "# $$\\begin{bmatrix} .7 & .1 & .2 \\\\ .2 & .3 & .5 \\\\ .1 & .3 & .6 \\end{bmatrix}$$\n",
    "\n",
    "We can then represent our states as row vectors - \n",
    "\n",
    "#### Sunny : $\\begin{pmatrix} 1 & 0 & 0 \\end{pmatrix}$\n",
    "#### Cloudy : $\\begin{pmatrix} 0 & 1 & 0 \\end{pmatrix}$\n",
    "#### Rainy : $\\begin{pmatrix} 0 & 0 & 1 \\end{pmatrix}$\n",
    "\n",
    "And our state transition will be represented by matrix multiplication\n",
    "\n",
    "#### Day 2 Weather = $\\begin{pmatrix} 1 & 0 & 0 \\end{pmatrix}$$\\begin{bmatrix} .7 & .1 & .2 \\\\ .2 & .3 & .5 \\\\ .1 & .3 & .6 \\end{bmatrix}$ = $\\begin{pmatrix} .7 \\\\ .1 \\\\ .2 \\end{pmatrix}$\n",
    "\n",
    "And Day 3 will be the transpose of our Day 2 column vector times our state transition matrix again:\n",
    "\n",
    "#### Day 2 Weather = $\\begin{pmatrix} .7 & .1 & .2 \\end{pmatrix}$$\\begin{bmatrix} .7 & .1 & .2 \\\\ .2 & .3 & .5 \\\\ .1 & .3 & .6 \\end{bmatrix}$ = $\\begin{pmatrix} .53 \\\\ .16 \\\\ .31 \\end{pmatrix}$\n",
    "\n",
    "You will note that these steps do not have discrete states!!\n",
    "\n",
    "Instead, they track the posterior distribution, and with each transition, we get closer and closer to the true posterior.\n",
    "\n",
    "If you have time, use numpy to repeat this matrix multiplication a significant number of time and compare the results to our first attempt at a markov chain up above"
   ]
  },
  {
   "cell_type": "code",
   "execution_count": null,
   "id": "7bb3c398-f303-4e04-8e59-22d5a81869fa",
   "metadata": {},
   "outputs": [],
   "source": []
  },
  {
   "cell_type": "markdown",
   "id": "5f4c4a5c-c47e-4711-89c0-6b9796bc75b1",
   "metadata": {},
   "source": [
    "Linear algebra speeds up our algorithm immensely, as you hopefully noticed above.\n",
    "\n",
    "If you have time, describe how we could do something similar with our MCMC to speed up the process. Why would speeding up the process be beneficial to its accuracy? Discuss below"
   ]
  },
  {
   "cell_type": "markdown",
   "id": "3d62fbf0-8ca6-4c88-ac56-01433c0f7795",
   "metadata": {},
   "source": []
  }
 ],
 "metadata": {
  "kernelspec": {
   "display_name": "Python 3 (ipykernel)",
   "language": "python",
   "name": "python3"
  },
  "language_info": {
   "codemirror_mode": {
    "name": "ipython",
    "version": 3
   },
   "file_extension": ".py",
   "mimetype": "text/x-python",
   "name": "python",
   "nbconvert_exporter": "python",
   "pygments_lexer": "ipython3",
   "version": "3.12.0"
  }
 },
 "nbformat": 4,
 "nbformat_minor": 5
}
